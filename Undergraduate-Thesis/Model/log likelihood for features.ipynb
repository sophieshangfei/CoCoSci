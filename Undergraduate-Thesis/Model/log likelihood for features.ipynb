{
 "cells": [
  {
   "cell_type": "code",
   "execution_count": 22,
   "metadata": {
    "collapsed": true
   },
   "outputs": [],
   "source": [
    "%matplotlib inline\n",
    "\n",
    "import matplotlib.pyplot as plt\n",
    "import numpy as np\n",
    "\n",
    "from scipy.stats import binom, beta\n",
    "from scipy.special import beta as B"
   ]
  },
  {
   "cell_type": "markdown",
   "metadata": {},
   "source": [
    "$$p(F|G,H_0) = \\int_0^1 \\prod_{i} p(\\theta) p(f_i|g_i, H_0, \\theta) \\ d\\theta$$\n",
    "\n",
    "$$ = \\int_0^1 \\theta*p(\\theta)*(1-\\theta)*p(1-\\theta)d\\theta $$\n",
    "\n",
    "Since $p(\\theta)$ is a uniform distribution with probability of each $\\theta$ as 1\n",
    "\n",
    "$$ p(f|g,H_0) = \\int_0^1 \\theta*(1-\\theta)d\\theta$$\n",
    "\n",
    "$$=\\frac{1}{2}\\theta^2 - \\frac{1}{3}\\theta^3 \\Big|_0^1$$"
   ]
  },
  {
   "cell_type": "code",
   "execution_count": 20,
   "metadata": {
    "collapsed": true
   },
   "outputs": [],
   "source": [
    "def h0_likelihood():\n",
    "    return (1/2)-(1/3)"
   ]
  },
  {
   "cell_type": "markdown",
   "metadata": {},
   "source": [
    "<br>\n",
    "$p(F|G,H_1) = \\iint_\\theta \\prod_{i} p(\\theta_1) p(f_i|g_1, H_1, \\theta_1) p(\\theta_2) p(f_i|g_1, H_1, \\theta_2)\\ d\\theta_1d\\theta_2$ \n",
    "<br>\n",
    "$ = \\iint_0^1 \\theta_1*p(\\theta_1)*(1-\\theta_1)*p(1-\\theta_1)*\\theta_2*p(\\theta_2)*(1-\\theta_2)*p(1-\\theta_2)d\\theta_1d\\theta_2 $\n",
    "<br>\n",
    "Since $p(\\theta)$ is a uniform distribution with probability of each $\\theta$ as 1\n",
    "<br>\n",
    "$ p(f|g,H_0) = \\iint_0^1 \\theta_1*(1-\\theta_1)\\theta_2*(1-\\theta_2)d\\theta_1d\\theta_2$\n",
    "<br>\n"
   ]
  },
  {
   "cell_type": "code",
   "execution_count": null,
   "metadata": {
    "collapsed": true
   },
   "outputs": [],
   "source": [
    "def h1_likelihood(group):\n",
    "    if group == 1:\n",
    "        \n",
    "    else:\n",
    "        \n",
    "    return "
   ]
  }
 ],
 "metadata": {
  "kernelspec": {
   "display_name": "Python 3",
   "language": "python",
   "name": "python3"
  },
  "language_info": {
   "codemirror_mode": {
    "name": "ipython",
    "version": 3
   },
   "file_extension": ".py",
   "mimetype": "text/x-python",
   "name": "python",
   "nbconvert_exporter": "python",
   "pygments_lexer": "ipython3",
   "version": "3.6.3"
  }
 },
 "nbformat": 4,
 "nbformat_minor": 2
}
