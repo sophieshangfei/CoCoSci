{
 "cells": [
  {
   "cell_type": "code",
   "execution_count": 36,
   "metadata": {
    "collapsed": true
   },
   "outputs": [],
   "source": [
    "%matplotlib inline\n",
    "import os\n",
    "import matplotlib.pyplot as plt\n",
    "import numpy as np\n",
    "import pandas as pd\n",
    "import seaborn as sns\n",
    "sns.set_style('white')\n",
    "sns.set_context('notebook', font_scale=1.3)\n",
    "\n",
    "import itertools as it\n",
    "from collections import Counter, defaultdict, deque\n",
    "from scipy.stats import bernoulli, binom"
   ]
  },
  {
   "cell_type": "code",
   "execution_count": 37,
   "metadata": {
    "collapsed": true
   },
   "outputs": [],
   "source": [
    "grid_size = 101\n",
    "grid = np.linspace(0, 1, grid_size)\n",
    "\n",
    "def normalize(x):\n",
    "    x = x.astype(float)\n",
    "    x /= x.sum()\n",
    "    return x\n",
    "\n",
    "#return True or False\n",
    "def is_equal(x, y):\n",
    "    return abs(x - y) < 1 / grid_size\n",
    "\n",
    "from toolz import memoize\n",
    "@memoize\n",
    "def h1_prior(p, q):\n",
    "    Q = p * grid + ((1-p)* grid)[:, None]\n",
    "    return normalize(is_equal(Q, q))\n",
    "\n",
    "@memoize\n",
    "def h0_prior(q):\n",
    "    return np.diag(normalize(is_equal(grid, q)))"
   ]
  },
  {
   "cell_type": "code",
   "execution_count": 38,
   "metadata": {
    "collapsed": true
   },
   "outputs": [],
   "source": [
    "def is_equal(x, y):\n",
    "    return abs(x - y) < 1 /grid_size"
   ]
  },
  {
   "cell_type": "code",
   "execution_count": 39,
   "metadata": {
    "collapsed": true
   },
   "outputs": [],
   "source": [
    "def h1_prior(p, q):\n",
    "    Q = p * grid + ((1-p)* grid)[:, None]\n",
    "    return normalize(is_equal(Q, q))"
   ]
  },
  {
   "cell_type": "code",
   "execution_count": 84,
   "metadata": {
    "collapsed": true
   },
   "outputs": [],
   "source": [
    "grid = np.linspace(0, 1, grid_size)"
   ]
  },
  {
   "cell_type": "code",
   "execution_count": 86,
   "metadata": {},
   "outputs": [
    {
     "data": {
      "text/plain": [
       "array([[ 0.      ,  0.      ,  0.      , ...,  0.003663,  0.003663,\n",
       "         0.003663],\n",
       "       [ 0.      ,  0.      ,  0.      , ...,  0.003663,  0.003663,\n",
       "         0.003663],\n",
       "       [ 0.      ,  0.      ,  0.      , ...,  0.003663,  0.      ,  0.      ],\n",
       "       ..., \n",
       "       [ 0.      ,  0.      ,  0.      , ...,  0.      ,  0.      ,  0.      ],\n",
       "       [ 0.      ,  0.      ,  0.      , ...,  0.      ,  0.      ,  0.      ],\n",
       "       [ 0.      ,  0.      ,  0.      , ...,  0.      ,  0.      ,  0.      ]])"
      ]
     },
     "execution_count": 86,
     "metadata": {},
     "output_type": "execute_result"
    }
   ],
   "source": [
    "@memoize\n",
    "def h1_prior(p, q):\n",
    "    Q = p * grid + ((1-p)* grid)[:, None]\n",
    "    return normalize(is_equal(Q, q))\n",
    "h1_prior(0.3, 0.3)"
   ]
  },
  {
   "cell_type": "code",
   "execution_count": 87,
   "metadata": {},
   "outputs": [
    {
     "data": {
      "text/plain": [
       "array([[ 0.   ,  0.003,  0.006, ...,  0.294,  0.297,  0.3  ],\n",
       "       [ 0.007,  0.01 ,  0.013, ...,  0.301,  0.304,  0.307],\n",
       "       [ 0.014,  0.017,  0.02 , ...,  0.308,  0.311,  0.314],\n",
       "       ..., \n",
       "       [ 0.686,  0.689,  0.692, ...,  0.98 ,  0.983,  0.986],\n",
       "       [ 0.693,  0.696,  0.699, ...,  0.987,  0.99 ,  0.993],\n",
       "       [ 0.7  ,  0.703,  0.706, ...,  0.994,  0.997,  1.   ]])"
      ]
     },
     "execution_count": 87,
     "metadata": {},
     "output_type": "execute_result"
    }
   ],
   "source": [
    "p=0.3\n",
    "q=0.2\n",
    "Q = p * grid + ((1-p)* grid)[:, None]\n",
    "Q"
   ]
  },
  {
   "cell_type": "code",
   "execution_count": 88,
   "metadata": {},
   "outputs": [
    {
     "data": {
      "text/plain": [
       "array([[False, False, False, ..., False, False, False],\n",
       "       [False, False, False, ..., False, False, False],\n",
       "       [False, False, False, ..., False, False, False],\n",
       "       ..., \n",
       "       [False, False, False, ..., False, False, False],\n",
       "       [False, False, False, ..., False, False, False],\n",
       "       [False, False, False, ..., False, False, False]], dtype=bool)"
      ]
     },
     "execution_count": 88,
     "metadata": {},
     "output_type": "execute_result"
    }
   ],
   "source": [
    "is_equal(Q, q)"
   ]
  },
  {
   "cell_type": "code",
   "execution_count": 89,
   "metadata": {},
   "outputs": [
    {
     "data": {
      "text/plain": [
       "array([ 0.  ,  0.01,  0.02,  0.03,  0.04,  0.05,  0.06,  0.07,  0.08,\n",
       "        0.09,  0.1 ,  0.11,  0.12,  0.13,  0.14,  0.15,  0.16,  0.17,\n",
       "        0.18,  0.19,  0.2 ,  0.21,  0.22,  0.23,  0.24,  0.25,  0.26,\n",
       "        0.27,  0.28,  0.29,  0.3 ,  0.31,  0.32,  0.33,  0.34,  0.35,\n",
       "        0.36,  0.37,  0.38,  0.39,  0.4 ,  0.41,  0.42,  0.43,  0.44,\n",
       "        0.45,  0.46,  0.47,  0.48,  0.49,  0.5 ,  0.51,  0.52,  0.53,\n",
       "        0.54,  0.55,  0.56,  0.57,  0.58,  0.59,  0.6 ,  0.61,  0.62,\n",
       "        0.63,  0.64,  0.65,  0.66,  0.67,  0.68,  0.69,  0.7 ,  0.71,\n",
       "        0.72,  0.73,  0.74,  0.75,  0.76,  0.77,  0.78,  0.79,  0.8 ,\n",
       "        0.81,  0.82,  0.83,  0.84,  0.85,  0.86,  0.87,  0.88,  0.89,\n",
       "        0.9 ,  0.91,  0.92,  0.93,  0.94,  0.95,  0.96,  0.97,  0.98,\n",
       "        0.99,  1.  ])"
      ]
     },
     "execution_count": 89,
     "metadata": {},
     "output_type": "execute_result"
    }
   ],
   "source": [
    "normalize(is_equal(Q, q))\n",
    "grid"
   ]
  },
  {
   "cell_type": "code",
   "execution_count": 90,
   "metadata": {
    "collapsed": true
   },
   "outputs": [],
   "source": [
    "def heatmap(X):\n",
    "    sns.heatmap(X, xticklabels=20, yticklabels=20, square=True,).invert_yaxis()\n",
    "    total = X.sum().sum()\n",
    "    plt.title(f'{total:.2e}')\n",
    "    plt.xlabel('$q_1$')\n",
    "    plt.ylabel('$q_0$')\n",
    "    idx = np.arange(0, 101, 20)\n",
    "    plt.xticks(idx, idx/100)\n",
    "    plt.yticks(idx[1:], (idx/100)[1:])\n",
    "    return total"
   ]
  },
  {
   "cell_type": "code",
   "execution_count": 127,
   "metadata": {},
   "outputs": [
    {
     "data": {
      "image/png": "[encoded data removed]",
      "text/plain": [
       "<matplotlib.figure.Figure at 0x1178c9f60>"
      ]
     },
     "metadata": {},
     "output_type": "display_data"
    }
   ],
   "source": [
    "fig, axes = plt.subplots(1, 2, figsize=(10, 4))\n",
    "plt.sca(axes[0])\n",
    "heatmap(h0_prior(0.33))\n",
    "plt.title('$H_0$ prior')\n",
    "plt.sca(axes[1])\n",
    "heatmap(h1_prior(0.3, 0.4))\n",
    "plt.title('$H_1$ prior');"
   ]
  },
  {
   "cell_type": "code",
   "execution_count": 92,
   "metadata": {
    "collapsed": true
   },
   "outputs": [],
   "source": [
    "@memoize\n",
    "def h0_prior(q):\n",
    "    return np.diag(normalize(is_equal(grid, q)))"
   ]
  },
  {
   "cell_type": "code",
   "execution_count": 93,
   "metadata": {},
   "outputs": [
    {
     "data": {
      "text/plain": [
       "array([ 0.,  0.,  0.,  0.,  0.,  0.,  0.,  0.,  0.,  0.,  0.,  0.,  0.,\n",
       "        0.,  0.,  0.,  0.,  0.,  0.,  0.,  0.,  0.,  0.,  0.,  0.,  0.,\n",
       "        0.,  0.,  0.,  0.,  0.,  0.,  0.,  0.,  0.,  0.,  0.,  0.,  0.,\n",
       "        0.,  0.,  0.,  0.,  0.,  0.,  0.,  0.,  0.,  0.,  0.,  0.,  0.,\n",
       "        0.,  0.,  0.,  0.,  0.,  0.,  0.,  0.,  0.,  0.,  0.,  0.,  0.,\n",
       "        0.,  0.,  0.,  0.,  0.,  0.,  0.,  0.,  0.,  0.,  0.,  0.,  0.,\n",
       "        0.,  0.,  0.,  0.,  0.,  0.,  0.,  0.,  0.,  0.,  0.,  0.,  0.,\n",
       "        0.,  0.,  0.,  0.,  0.,  0.,  0.,  0.,  0.,  0.])"
      ]
     },
     "execution_count": 93,
     "metadata": {},
     "output_type": "execute_result"
    }
   ],
   "source": [
    "h1_prior(0.2, 0.9)[1]"
   ]
  },
  {
   "cell_type": "code",
   "execution_count": 94,
   "metadata": {
    "collapsed": true
   },
   "outputs": [],
   "source": [
    "def normalize(x):\n",
    "    x = x.astype(float)\n",
    "    x /= x.sum()\n",
    "    return x"
   ]
  },
  {
   "cell_type": "code",
   "execution_count": 95,
   "metadata": {
    "collapsed": true
   },
   "outputs": [],
   "source": [
    "def h1_prior(p, q):\n",
    "    Q = p * grid + ((1-p)* grid)[:, None]\n",
    "    return normalize(is_equal(Q, q))"
   ]
  },
  {
   "cell_type": "code",
   "execution_count": 96,
   "metadata": {},
   "outputs": [
    {
     "data": {
      "text/plain": [
       "array([[ 0.        ,  0.        ,  0.        , ...,  0.        ,\n",
       "         0.        ,  0.        ],\n",
       "       [ 0.        ,  0.        ,  0.        , ...,  0.        ,\n",
       "         0.        ,  0.        ],\n",
       "       [ 0.        ,  0.        ,  0.        , ...,  0.        ,\n",
       "         0.        ,  0.        ],\n",
       "       ..., \n",
       "       [ 0.        ,  0.        ,  0.        , ...,  0.        ,\n",
       "         0.        ,  0.        ],\n",
       "       [ 0.00469484,  0.00469484,  0.00469484, ...,  0.        ,\n",
       "         0.        ,  0.        ],\n",
       "       [ 0.00469484,  0.00469484,  0.00469484, ...,  0.        ,\n",
       "         0.        ,  0.        ]])"
      ]
     },
     "execution_count": 96,
     "metadata": {},
     "output_type": "execute_result"
    }
   ],
   "source": [
    "h1_prior(0.1, 0.9)"
   ]
  },
  {
   "cell_type": "code",
   "execution_count": 97,
   "metadata": {
    "collapsed": true
   },
   "outputs": [],
   "source": [
    "from itertools import permutations, repeat\n",
    "grid_size = 101\n",
    "grid_easier = np.linspace(0, 1, grid_size)\n",
    "all_comb = [[x,y] for x in grid_easier for y in grid_easier]\n"
   ]
  },
  {
   "cell_type": "code",
   "execution_count": 54,
   "metadata": {
    "collapsed": true
   },
   "outputs": [],
   "source": [
    "def h1_prior_all(range_pq):\n",
    "    to_ret = []\n",
    "    for a in range_pq:\n",
    "        p = a[0]\n",
    "        q = a[1]\n",
    "        Q = p * grid + ((1-p)* grid)[:, None]\n",
    "        to_ret.append(normalize(is_equal(Q, q)))\n",
    "    return to_ret"
   ]
  },
  {
   "cell_type": "code",
   "execution_count": 55,
   "metadata": {
    "collapsed": true
   },
   "outputs": [],
   "source": [
    "k = h1_prior_all(all_comb)"
   ]
  },
  {
   "cell_type": "code",
   "execution_count": null,
   "metadata": {
    "scrolled": true
   },
   "outputs": [],
   "source": []
  },
  {
   "cell_type": "code",
   "execution_count": 56,
   "metadata": {
    "scrolled": false
   },
   "outputs": [],
   "source": [
    "import matplotlib.pyplot as plt\n",
    "from pylab import *\n",
    "from mpl_toolkits.mplot3d import Axes3D"
   ]
  },
  {
   "cell_type": "code",
   "execution_count": null,
   "metadata": {},
   "outputs": [],
   "source": []
  },
  {
   "cell_type": "code",
   "execution_count": 57,
   "metadata": {},
   "outputs": [
    {
     "name": "stdout",
     "output_type": "stream",
     "text": [
      "0.33 0.33 0.33 0.33000000000000007\n"
     ]
    }
   ],
   "source": [
    "def get_q1(p, q, q0):\n",
    "    \"\"\"Choose q1 such that the marginal q is maintained.\"\"\"\n",
    "    return(q - (1-p) * q0) / p\n",
    "\n",
    "def get_q0(p, q, q1):\n",
    "    \"\"\"Choose q0 such that the marginal q is maintained.\"\"\"\n",
    "    return(q - p * q1) / (1-p)\n",
    "\n",
    "p, q, q0 = .33, .33, .33\n",
    "q1 = get_q1(p, q, q0)\n",
    "print(p, q, q0, q1)\n",
    "assert np.allclose([p * q1 + (1-p) * q0], [q])  # check that marginal holds\n",
    "assert np.allclose([q0], [get_q0(p, q, q1)])  # check for consistency"
   ]
  },
  {
   "cell_type": "code",
   "execution_count": 106,
   "metadata": {},
   "outputs": [
    {
     "name": "stdout",
     "output_type": "stream",
     "text": [
      "Counts\n",
      "[[43 28]\n",
      " [18 11]]\n",
      "\n",
      "Expected Proportions\n",
      "[[ 0.4489  0.2211]\n",
      " [ 0.2211  0.1089]]\n"
     ]
    }
   ],
   "source": [
    "n = 1000\n",
    "p = 0.33\n",
    "q = 0.33\n",
    "q1 = 0.33\n",
    "q0 = 0.33\n",
    "def sample_table(n, p, q0, q1):\n",
    "    \"\"\"Sample a contingency table with the given parameters.\"\"\"\n",
    "    n1 = binom(n, p).rvs()\n",
    "    n0 = n - n1\n",
    "    k0 = binom(n0, q0).rvs()\n",
    "    k1 = binom(n1, q1).rvs()\n",
    "    return np.array([[n0 - k0, k0], [n1-k1, k1]])\n",
    "\n",
    "def expected_cell_rate(p, q0, q1):\n",
    "    return np.array([\n",
    "        \n",
    "        [(1-p) * (1 - q0), (1-p) * q0],\n",
    "        [p * (1 - q1), p * q1]\n",
    "    ])\n",
    "\n",
    "tbl = sample_table(100, p, q0, q1)\n",
    "print('Counts')\n",
    "print(tbl)\n",
    "print('\\nExpected Proportions')\n",
    "print(expected_cell_rate(p, q0, q1))"
   ]
  },
  {
   "cell_type": "code",
   "execution_count": 107,
   "metadata": {
    "collapsed": true
   },
   "outputs": [],
   "source": [
    "X = sample_table(10000, 0.2, 0.4, 0.25) / 10000"
   ]
  },
  {
   "cell_type": "code",
   "execution_count": 108,
   "metadata": {},
   "outputs": [
    {
     "data": {
      "text/plain": [
       "array([ 0.  ,  0.01,  0.02,  0.03,  0.04,  0.05,  0.06,  0.07,  0.08,\n",
       "        0.09,  0.1 ,  0.11,  0.12,  0.13,  0.14,  0.15,  0.16,  0.17,\n",
       "        0.18,  0.19,  0.2 ,  0.21,  0.22,  0.23,  0.24,  0.25,  0.26,\n",
       "        0.27,  0.28,  0.29,  0.3 ,  0.31,  0.32,  0.33,  0.34,  0.35,\n",
       "        0.36,  0.37,  0.38,  0.39,  0.4 ,  0.41,  0.42,  0.43,  0.44,\n",
       "        0.45,  0.46,  0.47,  0.48,  0.49,  0.5 ,  0.51,  0.52,  0.53,\n",
       "        0.54,  0.55,  0.56,  0.57,  0.58,  0.59,  0.6 ,  0.61,  0.62,\n",
       "        0.63,  0.64,  0.65,  0.66,  0.67,  0.68,  0.69,  0.7 ,  0.71,\n",
       "        0.72,  0.73,  0.74,  0.75,  0.76,  0.77,  0.78,  0.79,  0.8 ,\n",
       "        0.81,  0.82,  0.83,  0.84,  0.85,  0.86,  0.87,  0.88,  0.89,\n",
       "        0.9 ,  0.91,  0.92,  0.93,  0.94,  0.95,  0.96,  0.97,  0.98,\n",
       "        0.99,  1.  ])"
      ]
     },
     "execution_count": 108,
     "metadata": {},
     "output_type": "execute_result"
    }
   ],
   "source": [
    "grid"
   ]
  },
  {
   "cell_type": "code",
   "execution_count": 139,
   "metadata": {},
   "outputs": [
    {
     "data": {
      "text/plain": [
       "(101, 101)"
      ]
     },
     "execution_count": 139,
     "metadata": {},
     "output_type": "execute_result"
    },
    {
     "data": {
      "image/png": "[encoded data removed]",
      "text/plain": [
       "<matplotlib.figure.Figure at 0x1165f76a0>"
      ]
     },
     "metadata": {},
     "output_type": "display_data"
    }
   ],
   "source": [
    "def likelihood_grid(tbl):\n",
    "    \"\"\"Binomial likelihood of the counts in tbl for a 2D grid of q0 and q1 values.\"\"\"\n",
    "    n0, n1 = tbl.sum(axis=1)  # counts for x\n",
    "    k0, k1 = tbl[:, 1]  # counts for x given y=1\n",
    "    pk0 = binom(n0, grid).pmf(k0)\n",
    "    pk1 = binom(n1, grid).pmf(k1)\n",
    "    return np.outer(pk0, pk1)\n",
    "\n",
    "heatmap(likelihood_grid(tbl))\n",
    "np.shape(likelihood_grid(tbl))\n"
   ]
  },
  {
   "cell_type": "code",
   "execution_count": 111,
   "metadata": {},
   "outputs": [
    {
     "data": {
      "text/plain": [
       "array([[43, 28],\n",
       "       [18, 11]])"
      ]
     },
     "execution_count": 111,
     "metadata": {},
     "output_type": "execute_result"
    }
   ],
   "source": [
    "tbl"
   ]
  },
  {
   "cell_type": "code",
   "execution_count": 159,
   "metadata": {},
   "outputs": [
    {
     "data": {
      "image/png": "[encoded data removed]",
      "text/plain": [
       "<matplotlib.figure.Figure at 0x11887bc88>"
      ]
     },
     "metadata": {},
     "output_type": "display_data"
    }
   ],
   "source": [
    "n = 1000\n",
    "p = 0.33\n",
    "q = 0.33\n",
    "q1 = 0.33\n",
    "q0 = 0.33\n",
    "def log_likelihood_ratio(p, q, tbl):\n",
    "    L = likelihood_grid(tbl)\n",
    "    h0 = (h0_prior(q) * L).sum()\n",
    "    h1 = (h1_prior(p, q) * L).sum()\n",
    "    return np.log(h1) - np.log(h0)\n",
    "\n",
    "fig, axes = plt.subplots(2, 2, figsize=(9, 7))\n",
    "\n",
    "plt.sca(axes[0,0])\n",
    "heatmap(h0_prior(0.33))\n",
    "plt.title('$H_0$ prior')\n",
    "\n",
    "plt.sca(axes[0,1])\n",
    "heatmap(h1_prior(p, q))\n",
    "plt.title('$H_1$ Prior')\n",
    "\n",
    "plt.sca(axes[1,0])\n",
    "heatmap(likelihood_grid(tbl))\n",
    "plt.title('Likelihood');\n",
    "\n",
    "plt.sca(axes[1,1])\n",
    "heatmap(likelihood_grid(tbl) * h1_prior(p, q))\n",
    "plt.title('$H_1$ Posterior');\n",
    "\n",
    "\n",
    "\n",
    "plt.tight_layout()\n",
    "\n"
   ]
  },
  {
   "cell_type": "code",
   "execution_count": 113,
   "metadata": {},
   "outputs": [
    {
     "data": {
      "text/plain": [
       "-1.8131239884229293"
      ]
     },
     "execution_count": 113,
     "metadata": {},
     "output_type": "execute_result"
    }
   ],
   "source": [
    "log_likelihood_ratio(p, q, tbl)"
   ]
  },
  {
   "cell_type": "code",
   "execution_count": 118,
   "metadata": {},
   "outputs": [],
   "source": [
    "def get_q1(p, q, q0):\n",
    "    \"\"\"Choose q1 such that the marginal q is maintained.\"\"\"\n",
    "    return(q - (1-p) * q0) / p\n",
    "def get_q0(p, q, q1):\n",
    "    \"\"\"Choose q0 such that the marginal q is maintained.\"\"\"\n",
    "    return(q - p * q1) / (1-p)"
   ]
  },
  {
   "cell_type": "code",
   "execution_count": 121,
   "metadata": {},
   "outputs": [],
   "source": [
    "def get_q0_q1(p, q, φ):\n",
    "    q0 = get_q0(p, q, φ)\n",
    "    q1 = get_q1(p, q, q0)\n",
    "    if not (0 <= q0 <= 1) and (0 <= q1 <= 1):\n",
    "        return np.nan, np.nan\n",
    "    return q0, q1"
   ]
  },
  {
   "cell_type": "code",
   "execution_count": 123,
   "metadata": {},
   "outputs": [],
   "source": [
    "p = 0.3\n",
    "q = 0.4\n",
    "q0, q1 = get_q0_q1(p, q, .3)\n",
    "\n",
    "#matthews_corrcoef(x, y)"
   ]
  },
  {
   "cell_type": "code",
   "execution_count": 125,
   "metadata": {},
   "outputs": [
    {
     "data": {
      "text/plain": [
       "0.44285714285714295"
      ]
     },
     "execution_count": 125,
     "metadata": {},
     "output_type": "execute_result"
    }
   ],
   "source": [
    "q0"
   ]
  },
  {
   "cell_type": "code",
   "execution_count": 126,
   "metadata": {},
   "outputs": [
    {
     "data": {
      "text/plain": [
       "0.29999999999999993"
      ]
     },
     "execution_count": 126,
     "metadata": {},
     "output_type": "execute_result"
    }
   ],
   "source": [
    "q1"
   ]
  },
  {
   "cell_type": "code",
   "execution_count": 160,
   "metadata": {},
   "outputs": [
    {
     "data": {
      "text/plain": [
       "<matplotlib.text.Text at 0x117e53208>"
      ]
     },
     "execution_count": 160,
     "metadata": {},
     "output_type": "execute_result"
    },
    {
     "data": {
      "image/png": "[encoded data removed]",
      "text/plain": [
       "<matplotlib.figure.Figure at 0x1186988d0>"
      ]
     },
     "metadata": {},
     "output_type": "display_data"
    }
   ],
   "source": [
    "heatmap(likelihood_grid(tbl) * h0_prior(0.3))\n",
    "plt.title('$H_0$ Posterior')"
   ]
  },
  {
   "cell_type": "code",
   "execution_count": 156,
   "metadata": {},
   "outputs": [
    {
     "data": {
      "text/plain": [
       "4.6296296296294583"
      ]
     },
     "execution_count": 156,
     "metadata": {},
     "output_type": "execute_result"
    }
   ],
   "source": [
    "sum(likelihood_grid(tbl) * h0_prior(0.33).sum())"
   ]
  },
  {
   "cell_type": "code",
   "execution_count": 141,
   "metadata": {},
   "outputs": [
    {
     "data": {
      "text/plain": [
       "4.6296296296294583"
      ]
     },
     "execution_count": 141,
     "metadata": {},
     "output_type": "execute_result"
    }
   ],
   "source": [
    "k = likelihood_grid(tbl)"
   ]
  },
  {
   "cell_type": "code",
   "execution_count": 143,
   "metadata": {
    "collapsed": true
   },
   "outputs": [],
   "source": [
    "import numpy as np\n",
    "import scipy.stats as stats\n",
    "import pylab as pl"
   ]
  },
  {
   "cell_type": "code",
   "execution_count": 164,
   "metadata": {},
   "outputs": [
    {
     "data": {
      "image/png": "[encoded data removed]",
      "text/plain": [
       "<matplotlib.figure.Figure at 0x117ae2550>"
      ]
     },
     "metadata": {},
     "output_type": "display_data"
    }
   ],
   "source": [
    "fit = stats.norm.pdf(k[0], np.mean(k[0]), np.std(k[0]))  #this is a fitting indeed\n",
    "\n",
    "\n",
    "pl.hist(k[0],normed=True)      #use this to draw histogram of your data\n",
    "\n",
    "pl.show() "
   ]
  },
  {
   "cell_type": "code",
   "execution_count": 165,
   "metadata": {
    "collapsed": true
   },
   "outputs": [],
   "source": [
    "def log_likelihood_ratio(p, q, tbl):\n",
    "    L = likelihood_grid(tbl)\n",
    "    h0 = (h0_prior(q) * L).sum()\n",
    "    h1 = (h1_prior(p, q) * L).sum()\n",
    "    return h1/h0"
   ]
  },
  {
   "cell_type": "code",
   "execution_count": 166,
   "metadata": {},
   "outputs": [
    {
     "name": "stderr",
     "output_type": "stream",
     "text": [
      "/Users/SophieS/anaconda3/lib/python3.6/site-packages/ipykernel_launcher.py:5: RuntimeWarning: divide by zero encountered in true_divide\n",
      "  \"\"\"\n",
      "/Users/SophieS/anaconda3/lib/python3.6/site-packages/ipykernel_launcher.py:5: RuntimeWarning: invalid value encountered in true_divide\n",
      "  \"\"\"\n"
     ]
    },
    {
     "data": {
      "text/plain": [
       "array([[ nan,  nan,  nan, ...,  nan,  nan,  nan],\n",
       "       [ nan,  nan,  nan, ...,  inf,  inf,  nan],\n",
       "       [ nan,  nan,  nan, ...,  inf,  nan,  nan],\n",
       "       ..., \n",
       "       [ nan,  nan,  nan, ...,  nan,  nan,  nan],\n",
       "       [ nan,  nan,  nan, ...,  nan,  nan,  nan],\n",
       "       [ nan,  nan,  nan, ...,  nan,  nan,  nan]])"
      ]
     },
     "execution_count": 166,
     "metadata": {},
     "output_type": "execute_result"
    }
   ],
   "source": [
    "log_likelihood_ratio(0.33, 0.33, tbl)"
   ]
  },
  {
   "cell_type": "code",
   "execution_count": null,
   "metadata": {
    "collapsed": true
   },
   "outputs": [],
   "source": []
  }
 ],
 "metadata": {
  "kernelspec": {
   "display_name": "Python 3",
   "language": "python",
   "name": "python3"
  },
  "language_info": {
   "codemirror_mode": {
    "name": "ipython",
    "version": 3
   },
   "file_extension": ".py",
   "mimetype": "text/x-python",
   "name": "python",
   "nbconvert_exporter": "python",
   "pygments_lexer": "ipython3",
   "version": "3.6.0"
  }
 },
 "nbformat": 4,
 "nbformat_minor": 2
}
