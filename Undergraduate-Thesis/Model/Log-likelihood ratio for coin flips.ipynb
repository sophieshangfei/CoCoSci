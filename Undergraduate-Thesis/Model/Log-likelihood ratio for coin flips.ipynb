{
 "cells": [
  {
   "cell_type": "code",
   "execution_count": 111,
   "metadata": {
    "collapsed": true
   },
   "outputs": [],
   "source": [
    "import itertools\n",
    "import numpy as np\n",
    "import math\n",
    "import matplotlib.pyplot as plt\n",
    "import matplotlib.ticker as ticker"
   ]
  },
  {
   "cell_type": "code",
   "execution_count": 71,
   "metadata": {},
   "outputs": [],
   "source": [
    "complete_sequence = list(itertools.product(\"01\", repeat=7))\n",
    "complete_sequence = complete_sequence[-64:] #collapse HHHHHHH and TTTTTTT"
   ]
  },
  {
   "cell_type": "code",
   "execution_count": 73,
   "metadata": {
    "collapsed": true
   },
   "outputs": [],
   "source": [
    "# run a log likelihood ratio test to categorize distinctive vs non-distincitve sequences\n",
    "def LLR_test (data, p_h0):\n",
    "    \"\"\"\n",
    "    data: sequences of data\n",
    "    p_h0: coin is not biased (non-distinctive)\n",
    "        Pr(head) = 1/2\n",
    "    p_h1: coin is biased (distinctive)\n",
    "        Pr(head) > 1/2\n",
    "    Since h1 is a composite hypothesis (f(data|theta)) with theta unknown, we need to\n",
    "    compute the MLE for such parameter.\n",
    "    For h1:\n",
    "    f(data|theta) = (theta^k)*(1-theta)^(n-k) with k as number of heads and n as total number of coin flips\n",
    "    Take log of both sides:\n",
    "    log(f(data|theta))=k*log(theta) + (n-k)log(1-theta)\n",
    "    Differentiate with respect to theta:\n",
    "    k/theta + (n-k)/(1-theta)(-1) = 0\n",
    "    After simplification,\n",
    "    theta_optimal = k/n\n",
    "    \"\"\"\n",
    "    log_likelihood_list = []\n",
    "    for d in data:\n",
    "        d = list(map(int, d))\n",
    "        n = len(d) #total numbers of coin flips\n",
    "        k = sum(d) #number of heads\n",
    "        theta_optimal = k/n\n",
    "        theta_0 = p_h0\n",
    "        pr_h0 = (theta_0**k)*((1-theta_0)**(n-k))\n",
    "        pr_h1 = (theta_optimal**k)*((1-theta_optimal)**(n-k))\n",
    "        factor = pr_h1/pr_h0\n",
    "        log_likelihood_list.append(math.log(factor))\n",
    "    return log_likelihood_list"
   ]
  },
  {
   "cell_type": "code",
   "execution_count": 97,
   "metadata": {},
   "outputs": [],
   "source": [
    "LLR = LLR_test (complete_sequence, 0.5)"
   ]
  },
  {
   "cell_type": "code",
   "execution_count": 98,
   "metadata": {},
   "outputs": [],
   "source": [
    "plot_Sequence = []\n",
    "for d in complete_sequence:\n",
    "    plot_Sequence.append(''.join(d))\n"
   ]
  },
  {
   "cell_type": "code",
   "execution_count": 116,
   "metadata": {},
   "outputs": [
    {
     "data": {
      "image/png": "[encoded data removed]",
      "text/plain": [
       "<matplotlib.figure.Figure at 0x11123a588>"
      ]
     },
     "metadata": {},
     "output_type": "display_data"
    }
   ],
   "source": [
    "# plt.scatter(plot_Sequence, LLR)\n",
    "# plt.xticks(np.arange(64), plot_Sequence, rotation = 90)\n",
    "# plt.show()\n"
   ]
  },
  {
   "cell_type": "code",
   "execution_count": null,
   "metadata": {
    "collapsed": true
   },
   "outputs": [],
   "source": []
  }
 ],
 "metadata": {
  "kernelspec": {
   "display_name": "Python 3",
   "language": "python",
   "name": "python3"
  },
  "language_info": {
   "codemirror_mode": {
    "name": "ipython",
    "version": 3
   },
   "file_extension": ".py",
   "mimetype": "text/x-python",
   "name": "python",
   "nbconvert_exporter": "python",
   "pygments_lexer": "ipython3",
   "version": "3.6.0"
  }
 },
 "nbformat": 4,
 "nbformat_minor": 2
}
