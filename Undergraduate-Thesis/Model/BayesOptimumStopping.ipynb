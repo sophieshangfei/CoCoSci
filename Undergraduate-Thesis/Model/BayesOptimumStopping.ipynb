{
 "cells": [
  {
   "cell_type": "code",
   "execution_count": 20,
   "metadata": {
    "collapsed": true
   },
   "outputs": [],
   "source": [
    "import random\n",
    "import numpy as np\n",
    "import matplotlib.pyplot as plt\n",
    "import scipy as sp"
   ]
  },
  {
   "cell_type": "markdown",
   "metadata": {},
   "source": [
    "There are a set of data on coin flips (i.i.d.), named S. $ S = \\{x_1, x_2, x_3, x_4, \\dots\\}\\ $\n",
    "<br>\n",
    "The task here is to make a conclusion on whether this coin is biased. \n",
    "\n",
    "There are two hypothese regarding this set of data:<br>\n",
    "<center>$H_0: |\\theta - 0.5| <= \\epsilon \\,\\, (fair \\, or \\, near \\, fair)$<br></center>\n",
    "<center>$H_1: |\\theta - 0.5| > \\beta\\epsilon \\,\\, (unfair) $</center> \n",
    "\n",
    "And here are two contraints: <br>\n",
    "\n",
    "1.There is a unit cost of observing one flip, $c_{x_i}$. <br>\n",
    "2.There is a cost if the conclusion is wrong: <br> \n",
    "\n",
    "<center>For $H_0, \\, L_0 = |\\theta-0.5|$ <br>\n",
    "<center>For $ H_1, \\, L_1 = \\alpha(0.5 - |\\theta-0.5|)$ with $\\alpha$ be a constant  <br>\n",
    "(It is nice to have this $\\alpha$ here since it can gives us some room to either penalize false negatives more or false positives more)\n",
    "\n",
    "\n",
    "\n",
    "Let's say the prior for parameter $\\theta$ is a beta distribution, named $\\,f(\\theta)$. \n",
    "<center>$f(\\theta) = \\frac{\\theta^{(a-1)}(1-\\theta)^{(b-1)}}{B(a,\\,b)}$, with $a = b = 1$.\n"
   ]
  },
  {
   "cell_type": "markdown",
   "metadata": {},
   "source": [
    "Example: 1 coin, flipped 10 times."
   ]
  },
  {
   "cell_type": "code",
   "execution_count": 21,
   "metadata": {
    "collapsed": true
   },
   "outputs": [],
   "source": [
    "# true_theta = random.uniform(0, 1)\n",
    "# n, p = 1, true_theta\n",
    "# alpha = 1\n",
    "# n = 10\n",
    "# s = np.random.binomial(n, p, 10)\n",
    "# cost_obs = 1\n",
    "# s # array([0, 1, 0, 0, 0, 0, 0, 1, 1, 1])"
   ]
  },
  {
   "cell_type": "code",
   "execution_count": 64,
   "metadata": {
    "collapsed": true
   },
   "outputs": [],
   "source": [
    "true_theta = random.uniform(0, 1)\n",
    "n, p = 1, true_theta\n",
    "alpha = 1\n",
    "cost_obs = 0.0000000001 \n",
    "def prior_func (theta, a, b):\n",
    "    part_1 = (theta**(a-1))*((1-theta)**(b-1))\n",
    "    part_2 = sp.special.beta(a,b)\n",
    "    return part_1/part_2 \n",
    "s = np.array([0, 1, 0, 0, 0, 0, 0, 1, 1, 1])\n",
    "n = 10\n",
    "k = np.sum(s) #4"
   ]
  },
  {
   "cell_type": "markdown",
   "metadata": {},
   "source": [
    "The logic behind this notebook follows as below:\n",
    "\n",
    "Having observed n coin flips with k heads $(n, k)$, we want to calculate the cost of stopping and making a decisison at $(n, k)$ and the cost of preceeding and making a decision at $(n+1, k)$ or $(n+1, k+1)$. If the former is less than the later one, we stop and make an immediate decision. If the later is less than the former one, we preceed. \n",
    "\n",
    "In mathematical language: \n",
    "\n",
    "<center>$L(n, k) < c_{x_i} + \\theta*L(n+1, k+1) + (1-\\theta)*L(n+1, k)$ <br>\n",
    "\n"
   ]
  },
  {
   "cell_type": "markdown",
   "metadata": {},
   "source": [
    "Now, take the expected value of both sides:\n",
    "\n",
    "<center>$E(L(n, k)) < E(c_{x_i}) + E(\\theta*L(n+1, k+1)) + E((1-\\theta)*L(n+1, k))$ <br>\n",
    "<center>$E(L(n, k)) < c_{x_i} + E(\\theta)*E(L(n+1, k+1)) + E((1-\\theta))*E(L(n+1, k))$ <br>\n"
   ]
  },
  {
   "cell_type": "markdown",
   "metadata": {},
   "source": [
    "We want to evaluate the $E(\\theta)$ first, which is $E(\\theta)\\, =\\, \\int_0^1\\hat\\theta*p(\\theta = \\hat\\theta\\,|\\,k,\\,n)\\mathrm{d}\\theta$ <br>\n",
    "Given a bionomial distribution, to evaluate $\\hat\\theta$:<br>\n",
    "<center>$p(\\theta = \\hat\\theta\\,|\\,k,\\,n) \\,\\,\\, \\propto \\,\\,\\, p(\\theta,\\,k\\,|\\,n) $ <br>\n",
    "<center>$p(\\theta,\\,k\\,|\\,n) \\, = \\, p(k\\,|\\,n,\\,\\theta)*f(\\theta) \\, = \\, p(k\\,|\\,n,\\,\\theta)*f(\\theta)$ <br>\n",
    "<center>$= z_{\\theta, \\, k} * \\binom{n}{k}\\theta^k(1-\\theta)^{n-k}*f(\\theta)$ <br>\n",
    "here, $z_{\\theta, \\, k}$ is a normalizing constant with $\\frac{1}{\\int_0^1 \\binom{n}{k}\\theta^k(1-\\theta)^{n-k}  \\mathrm{d}\\theta\\mathrm{d}k}$\n",
    "\n",
    "But we know the value of k, in this case, let it be $k_0$, $k = k_0$\n",
    "As such, \n",
    "<center>$p(\\theta = \\hat\\theta\\,|\\,k,\\,n) \\,\\,\\, = \\,\\,\\, p(\\theta\\,|\\,k_0,\\,n) $ <br>\n",
    "<center>$= z_{\\theta} * \\binom{n}{k}\\theta^k(1-\\theta)^{n-k}*f(\\theta)$ <br>\n",
    "with $z_{\\theta}$, a normalizing constant with $\\frac{1}{\\int_0^1 \\binom{n}{k}\\theta^k(1-\\theta)^{n-k}  \\mathrm{d}\\theta}$<br>\n",
    "\n",
    "Therefore, $E(\\theta)\\, =\\, z_{\\theta}\\int_0^1\\hat\\theta*\\binom{n}{k}\\hat\\theta^k(1-\\hat\\theta)^{n-k}*f(\\hat\\theta) \\mathrm{d}\\hat\\theta$ <br>"
   ]
  },
  {
   "cell_type": "markdown",
   "metadata": {},
   "source": [
    "Plug the above in Wolfram Alpha with n =10, k = 4, we have\n",
    "$\\int_0^1\\hat\\theta*\\binom{n}{k}\\hat\\theta^k(1-\\hat\\theta)^{n-k}*f(\\theta) \\mathrm{d}\\theta$ = $\\frac {5}{572}$ <br>\n",
    "With $z_\\theta$ = 11,\n",
    "we have \n",
    "$E(\\theta)\\, =\\, z_{\\theta}\\int_0^1\\hat\\theta*\\binom{n}{k}\\hat\\theta^k(1-\\hat\\theta)^{n-k}*f(\\theta) \\mathrm{d}\\theta = 11*\\frac {5}{572} = 0.096$ <br>"
   ]
  },
  {
   "cell_type": "code",
   "execution_count": 65,
   "metadata": {},
   "outputs": [
    {
     "data": {
      "text/plain": [
       "0.096153846153840442"
      ]
     },
     "execution_count": 65,
     "metadata": {},
     "output_type": "execute_result"
    }
   ],
   "source": [
    "theta_function_simplified = lambda theta: theta**(k+2)*(1-theta)**(n-k+1)\n",
    "theta_function_general = lambda theta: (theta**k)*(1- theta)**(n-k)\n",
    "def factorial(n):\n",
    "    if n == 0:\n",
    "        return 1\n",
    "    else:\n",
    "        return n * factorial(n-1)\n",
    "    \n",
    "def nCk(n, k):\n",
    "    ret = 0\n",
    "    if n == k:\n",
    "        return 1\n",
    "    elif k == 1:\n",
    "        ret = n\n",
    "    else:\n",
    "        a = factorial(n)\n",
    "        b = factorial(k)\n",
    "        c = factorial(n - k)\n",
    "    return a // (b * c)\n",
    "    \n",
    "def trapezoidal_rule(f, a, b, t):\n",
    "    \"\"\"Approximates the definite integral of f from a to b by\n",
    "    the composite trapezoidal rule, using t subintervals\"\"\"\n",
    "    h = (b - a) / t\n",
    "    s = f(a) + f(b)\n",
    "    for i in np.arange(1, t):\n",
    "        s += 2 * f(a + i * h)\n",
    "    return s * h / 2\n",
    "\n",
    "def expectedTheta_constant_normalizing_factors(n, k):\n",
    "    return 1/(factorial(n-k)*factorial(k)/factorial(n+1))\n",
    "\n",
    "def expected_value_theta(n, k, f, a, b, t):\n",
    "    return expectedTheta_constant_normalizing_factors(n, k) * trapezoidal_rule(theta_function_simplified, 0, 1, 100)\n",
    "expected_value_theta(n, k, theta_function_simplified, 0, 1, 100)"
   ]
  },
  {
   "cell_type": "markdown",
   "metadata": {},
   "source": [
    "Now, take a look at the loss function:\n",
    "\n",
    "For $H_0$, <br>\n",
    "<center>$\\, L_0 = |\\theta-0.5|$ <br>\n",
    "\n",
    "For  $H_1$,<br> \n",
    "<center>$\\, L_1 = \\alpha(0.5 - |\\theta-0.5|)$ with $\\alpha$ be a constant  <br>"
   ]
  },
  {
   "cell_type": "markdown",
   "metadata": {},
   "source": [
    "These two look like:"
   ]
  },
  {
   "cell_type": "code",
   "execution_count": 83,
   "metadata": {},
   "outputs": [
    {
     "data": {
      "image/png": "[encoded data removed]",
      "text/plain": [
       "<matplotlib.figure.Figure at 0x10e642eb8>"
      ]
     },
     "metadata": {},
     "output_type": "display_data"
    }
   ],
   "source": [
    "epsilon = 0.001\n",
    "def L1(value, n, epsilon):\n",
    "    if value-n < 0:\n",
    "        return n-value-epsilon\n",
    "    else:\n",
    "        return value-n-epsilon\n",
    "alpha = 1\n",
    "def L2(value, n, epsilon, alpha = 1):\n",
    "    if value - n <0:\n",
    "        return alpha*value\n",
    "    else:\n",
    "        return alpha*(1-value)\n",
    "fig = plt.figure()\n",
    "\n",
    "ax1 = fig.add_subplot(221)    \n",
    "x = np.arange(0, 1.1, 0.1)\n",
    "L1_y = []\n",
    "for i in range(len(x)):\n",
    "    L1_y.append(L1(x[i], 0.5, epsilon))\n",
    "ax1.plot(x, L1_y, '-')\n",
    "ax1.set_title('L0 loss')\n",
    "\n",
    "ax2 = fig.add_subplot(222) \n",
    "L2_y = []\n",
    "for i in range(len(x)):\n",
    "    L2_y.append(L2(x[i], 0.5, epsilon, alpha = 1))\n",
    "ax2.plot(x, L2_y, '-')\n",
    "ax2.set_title('L1 loss')\n",
    "plt.show()"
   ]
  },
  {
   "cell_type": "markdown",
   "metadata": {
    "collapsed": true
   },
   "source": [
    "Now, we want to figure out $E(L(n+1, k+1)),\\, E(L(n+1, k)),\\, and \\, E(L(n, k)$<br>\n",
    "Starting from $E(L(n, k))$,<br>\n",
    "<center>$E(L(n, k)) = min(E(L_0|n, k), E(L_1|n, k))$ <br>\n",
    "\n",
    "With $E(L_0|(n, k))$:<br>\n",
    "<center>$E(L_0|(n, k))$ \n",
    "$= E [\\begin{cases} \n",
    "      0 & |\\theta - 0.5|\\le \\epsilon \\\\\n",
    "      |0.5-\\theta| & else \\\\\n",
    "   \\end{cases}]$<br>\n",
    "$ = \\int_0^1L_0(\\hat\\theta)*p(\\theta = \\hat\\theta\\,|\\,k,\\,n)\\mathrm{d}\\theta$ <br>\n",
    "$ = \\int_0^{0.5-\\epsilon}L_0(\\hat\\theta)*p(\\theta = \\hat\\theta\\,|\\,k,\\,n)\\mathrm{d}\\theta + \\int_{0.5+\\epsilon}^1L_0(\\hat\\theta)*p(\\theta = \\hat\\theta\\,|\\,k,\\,n)\\mathrm{d}\\theta$ <br>\n",
    "\n",
    "With $E(L_1|(n, k))$:<br>\n",
    "<center>$E(L_1|(n, k))$ \n",
    "$= E [\\begin{cases}\n",
    "      \\alpha(0.5 - |0.5-\\theta|) & |\\theta - 0.5|\\le \\epsilon  \\\\\n",
    "      0 & else \\\\\n",
    "   \\end{cases}]$<br>\n",
    "$ = \\int_0^1L_1(\\hat\\theta)*p(\\theta = \\hat\\theta\\,|\\,k,\\,n)\\mathrm{d}\\theta$ <br>\n",
    "$ = \\int_{0.5-\\epsilon}^{0.5+\\epsilon}L_1(\\hat\\theta)*p(\\theta = \\hat\\theta\\,|\\,k,\\,n)\\mathrm{d}\\theta$  <br>\n",
    "\n",
    "The same calculation goes for $E(L(n+1, k+1))$ and $E(L(n+1, k))$\n"
   ]
  },
  {
   "cell_type": "markdown",
   "metadata": {},
   "source": [
    "Going back to where we started, we have derived:\n",
    "\n",
    "1. the cost of stopping and making a decisison at $(n, k)$\n",
    "2. the cost of preceeding and making a decision at $(n+1, k)$ or $(n+1, k+1)$"
   ]
  },
  {
   "cell_type": "markdown",
   "metadata": {},
   "source": [
    "To prove the fact that we can just do a one-step-look-ahead needs to prove the convexity of our loss function.\n",
    "Let's say there is a function $f(x)$. Take two arbitrary points $x_0$ and $x_1$ that satisfy $x_0$ < $x_1$. If the fucntion satisfy <center>$f(\\lambda x_0 + (1- \\lambda)x_1) \\leq \\lambda f(x_0)+ (1-\\lambda)f(x_1), \\,$ given  that $\\, \\lambda \\in [0, 1]$<br>\n",
    "\n",
    "the function $f(x)$ is convex"
   ]
  },
  {
   "cell_type": "markdown",
   "metadata": {},
   "source": [
    "In this case, observe $x_i$ and $x_{i+2}$. Each the observation has loss function. For simplicity, denote it as $Obs(x_i)$ and $Obs(x_{i+2})$\n",
    "We want to prove\n",
    "<center> $Obs(x_{i+1}) < \\frac{1}{2}(Obs(x_i) + Obs(x_{i+2}))$ <br>\n",
    "\n",
    "We have: \n",
    "<img src=\"Tree.png\" alt=\"Alt text that describes the graphic\" title=\"Title text\" />\n",
    "\n",
    "\n",
    "<center>$Obs(x_i) = L(n, k) = min(E(L_0|n,k)),E(L_1|n,k))$ \n",
    "<center>$Obs(x_{i+1}) = c_{x_i} + \\theta*L(n+1, k+1) + (1-\\theta)*L(n+1, k)$ \n",
    "<center>$Obs(x_{i+2}) = L(n, k)$ "
   ]
  },
  {
   "cell_type": "markdown",
   "metadata": {},
   "source": []
  },
  {
   "cell_type": "code",
   "execution_count": 79,
   "metadata": {
    "collapsed": true
   },
   "outputs": [],
   "source": [
    "loss_1_first_half = lambda theta: abs(0.5-theta)*(theta**k)*(1- theta)**(n-k)\n",
    "loss_2 = lambda theta: alpha*(0.5 - abs(0.5- theta))*(theta**k)*(1- theta)**(n-k)\n",
    "range_a = 0.5+epsilon\n",
    "range_b = 0.5-epsilon\n",
    "def expectedloss_constant_normalizing_factor(n, k):\n",
    "    return factorial(n+1)/(factorial(k)*factorial(n-k))\n",
    "def mini(l_1, l_2, n, k):\n",
    "    m = expectedloss_constant_normalizing_factor(n, k)*trapezoidal_rule(l_1, range_a, 1, 100) + 0\n",
    "    n = expectedloss_constant_normalizing_factor(n, k)*trapezoidal_rule(l_2, range_b, range_a, 100)\n",
    "    return min(m, n)\n"
   ]
  },
  {
   "cell_type": "code",
   "execution_count": 114,
   "metadata": {},
   "outputs": [
    {
     "data": {
      "text/plain": [
       "1.0741119726883924e-06"
      ]
     },
     "execution_count": 114,
     "metadata": {},
     "output_type": "execute_result"
    }
   ],
   "source": [
    "def cost_immediate_decsion (n, k, l_1, l_2):\n",
    "    return mini(l_1, l_2, n, k)\n",
    "\n",
    "def cost_observe_one_more (n, k, l_1, l_2):\n",
    "    head = expected_value_theta(n, k, theta_function_simplified, 0, 1, 100) * mini(l_1, l_2, n+1, k+1)\n",
    "    tail = (1-expected_value_theta(n, k, theta_function_simplified, 0, 1, 100)) * mini(l_1, l_2, n+1, k)\n",
    "    total_cost = cost_obs + head + tail\n",
    "    return total_cost\n",
    "\n",
    "cost_observe_one_more(n, k, loss_1_first_half, loss_2)\n",
    "cost_immediate_decsion(n, k, loss_1_first_half, loss_2)\n"
   ]
  },
  {
   "cell_type": "code",
   "execution_count": 122,
   "metadata": {},
   "outputs": [
    {
     "data": {
      "image/png": "[encoded data removed]",
      "text/plain": [
       "<matplotlib.figure.Figure at 0x10e274358>"
      ]
     },
     "metadata": {},
     "output_type": "display_data"
    }
   ],
   "source": [
    "n = 10\n",
    "heads = np.arange(1, 11)\n",
    "immediate_decision = []\n",
    "observe = []\n",
    "for k in heads:\n",
    "    immediate_decision.append(cost_immediate_decsion (n, k, loss_1_first_half, loss_2))\n",
    "    observe.append(cost_observe_one_more(n, k, loss_1_first_half, loss_2))\n",
    "labels = [(10, k) for k in heads]\n",
    "plt.plot(heads, immediate_decision, 'orange', label = 'Cost of making an immediate decision')\n",
    "plt.plot(heads, observe, 'blue', label = 'Cost of making an observation') \n",
    "ax = plt.gca() # grab the current axis\n",
    "ax.set_xticks(heads) # choose which x locations to have ticks\n",
    "ax.set_xticklabels(labels) # set the labels to display at those ticks\n",
    "plt.legend(loc='upper left')\n",
    "plt.margins(0.05)\n",
    "plt.ylabel('Expected Cost')\n",
    "plt.show()\n",
    "#plt.label('Cost of observing one more at (10, %i) times'%)"
   ]
  },
  {
   "cell_type": "markdown",
   "metadata": {},
   "source": []
  },
  {
   "cell_type": "markdown",
   "metadata": {},
   "source": [
    "To simulate an entire series of 10 flips"
   ]
  },
  {
   "cell_type": "code",
   "execution_count": 128,
   "metadata": {},
   "outputs": [
    {
     "data": {
      "text/plain": [
       "array([0, 1, 0, 1, 1, 1, 0, 0, 1, 0])"
      ]
     },
     "execution_count": 128,
     "metadata": {},
     "output_type": "execute_result"
    }
   ],
   "source": [
    "#true_theta = random.uniform(0, 1)\n",
    "#n, p = 1, true_theta\n",
    "alpha = 1\n",
    "#flips = np.random.binomial(n, p, 10)\n",
    "cost_obs = 0.0000000001 \n",
    "epsilon = 0.001\n",
    "flips = array([0, 1, 0, 1, 1, 1, 0, 0, 1, 0])\n",
    "#plt.label('Cost for observing one more at (10, %i) times'%)"
   ]
  },
  {
   "cell_type": "code",
   "execution_count": 132,
   "metadata": {},
   "outputs": [
    {
     "data": {
      "text/plain": [
       "0.49564355350388767"
      ]
     },
     "execution_count": 132,
     "metadata": {},
     "output_type": "execute_result"
    }
   ],
   "source": [
    "flips = np.array([0, 1, 0, 1, 1, 1, 0, 0, 1, 0])\n",
    "true_theta"
   ]
  },
  {
   "cell_type": "code",
   "execution_count": 140,
   "metadata": {},
   "outputs": [
    {
     "data": {
      "image/png": "[encoded data removed]",
      "text/plain": [
       "<matplotlib.figure.Figure at 0x10e1a68d0>"
      ]
     },
     "metadata": {},
     "output_type": "display_data"
    }
   ],
   "source": [
    "k = 0\n",
    "n = 0\n",
    "immediate_decision = []\n",
    "observe = []\n",
    "for f in flips:\n",
    "    k = k + f\n",
    "    n = n + 1\n",
    "    immediate_decision.append(cost_immediate_decsion (n, k, loss_1_first_half, loss_2))\n",
    "    observe.append(cost_observe_one_more(n, k, loss_1_first_half, loss_2))\n",
    "#labels = [(10, k) for k in heads]\n",
    "plt.plot(heads, immediate_decision, 'orange', label = 'Cost of making an immediate decision')\n",
    "plt.plot(heads, observe, 'blue', label = 'Cost of making an observation') \n",
    "ax = plt.gca() # grab the current axis\n",
    "ax.set_xticks(np.arange(1, 11)) # choose which x locations to have ticks\n",
    "ax.set_xticklabels(flips) # set the labels to display at those ticks\n",
    "plt.legend(loc='upper left')\n",
    "plt.margins(0.05)\n",
    "plt.ylabel('Expected Cost')\n",
    "plt.show()"
   ]
  },
  {
   "cell_type": "code",
   "execution_count": null,
   "metadata": {
    "collapsed": true
   },
   "outputs": [],
   "source": []
  }
 ],
 "metadata": {
  "kernelspec": {
   "display_name": "Python 3",
   "language": "python",
   "name": "python3"
  },
  "language_info": {
   "codemirror_mode": {
    "name": "ipython",
    "version": 3
   },
   "file_extension": ".py",
   "mimetype": "text/x-python",
   "name": "python",
   "nbconvert_exporter": "python",
   "pygments_lexer": "ipython3",
   "version": "3.6.0"
  }
 },
 "nbformat": 4,
 "nbformat_minor": 2
}
